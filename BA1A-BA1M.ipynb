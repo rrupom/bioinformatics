{
 "cells": [
  {
   "cell_type": "markdown",
   "metadata": {},
   "source": [
    "### BA1A : Compute the Number of Times a Pattern Appears in a Text"
   ]
  },
  {
   "cell_type": "code",
   "execution_count": 5,
   "metadata": {},
   "outputs": [
    {
     "name": "stdout",
     "output_type": "stream",
     "text": [
      "Count of 'ACTAT' in 'ACAACTATGCATACTATCGGGAACTATCCT' : '3'\n"
     ]
    }
   ],
   "source": [
    "def count_pattern(text,pattern):\n",
    "    count = 0\n",
    "    \n",
    "    for i in range (len(text) - len(pattern)+1):\n",
    "        substring = text[i:i+len(pattern)]\n",
    "        if substring == pattern:\n",
    "            count+=1\n",
    "    \n",
    "    return count\n",
    "\n",
    "text = \"ACAACTATGCATACTATCGGGAACTATCCT\"\n",
    "pattern = \"ACTAT\"\n",
    "result = count_pattern(text,pattern)\n",
    "print(f\"Count of '{pattern}' in '{text}' : '{result}'\")"
   ]
  },
  {
   "cell_type": "markdown",
   "metadata": {},
   "source": [
    "### BA1B : Find the Most Frequent Words in a String"
   ]
  },
  {
   "cell_type": "code",
   "execution_count": 13,
   "metadata": {},
   "outputs": [
    {
     "name": "stdout",
     "output_type": "stream",
     "text": [
      "['GCAT', 'CATG']\n"
     ]
    }
   ],
   "source": [
    "def most_frequent_kmers(text,k):\n",
    "    kmers = {}\n",
    "    frequent_kmers = []\n",
    "    max_count = 0\n",
    "\n",
    "    for i in range(len(text)-k +1):\n",
    "        kmer = text[i:i+k]\n",
    "        if kmer not in kmers:\n",
    "            kmers[kmer]=0\n",
    "        kmers[kmer] +=1\n",
    "        max_count = max(max_count,kmers[kmer])\n",
    "    for kmer, count in kmers.items():\n",
    "        if count == max_count:\n",
    "            frequent_kmers.append(kmer)\n",
    "    \n",
    "    return frequent_kmers\n",
    "\n",
    "text = \"ACGTTGCATGTCGCATGATGCATGAGAGCT\";\n",
    "k = 4;\n",
    "result = most_frequent_kmers(text,k);\n",
    "print(result);"
   ]
  },
  {
   "cell_type": "markdown",
   "metadata": {},
   "source": [
    "### BA1C : Find the Reverse Complement of a String"
   ]
  },
  {
   "cell_type": "code",
   "execution_count": 16,
   "metadata": {},
   "outputs": [
    {
     "name": "stdout",
     "output_type": "stream",
     "text": [
      "ACCGGGTTTT\n"
     ]
    }
   ],
   "source": [
    "def reverse_complement(dna_string):\n",
    "    complement_dictionary = {\n",
    "        'A':'T',\n",
    "        \"T\":\"A\",\n",
    "        \"C\":\"G\",\n",
    "        \"G\":\"C\"\n",
    "    }\n",
    "\n",
    "    reversed_complement = \"\"\n",
    "\n",
    "    for neucleotide in reversed(dna_string):\n",
    "        complement = complement_dictionary[neucleotide]\n",
    "        reversed_complement += complement\n",
    "    \n",
    "    return reversed_complement\n",
    "\n",
    "\n",
    "dna_string = \"AAAACCCGGT\"\n",
    "reverse_comp = reverse_complement(dna_string)\n",
    "print(reverse_comp)"
   ]
  },
  {
   "cell_type": "markdown",
   "metadata": {},
   "source": [
    "### BA1D : Find All Occurrences of a Pattern in a String"
   ]
  },
  {
   "cell_type": "code",
   "execution_count": 21,
   "metadata": {},
   "outputs": [
    {
     "name": "stdout",
     "output_type": "stream",
     "text": [
      "[1, 3, 9]\n"
     ]
    }
   ],
   "source": [
    "def findPattern(pattern,genome):\n",
    "    positions = []\n",
    "\n",
    "    for i in range(len(genome)- len(pattern) + 1):\n",
    "        substring = genome[i:i+len(pattern)]\n",
    "\n",
    "        if substring == pattern:\n",
    "            positions.append(i)\n",
    "    \n",
    "    return positions\n",
    "\n",
    "pattern = \"ATAT\"\n",
    "genome = \"GATATATGCATATACTT\"\n",
    "\n",
    "matches = findPattern(pattern,genome)\n",
    "print(matches)"
   ]
  },
  {
   "cell_type": "markdown",
   "metadata": {},
   "source": [
    "### BA1E : Find Patterns Forming Clumps in a String"
   ]
  },
  {
   "cell_type": "code",
   "execution_count": 26,
   "metadata": {},
   "outputs": [
    {
     "name": "stdout",
     "output_type": "stream",
     "text": [
      "['GAAGA', 'CGACA', 'AATGT']\n"
     ]
    }
   ],
   "source": [
    "def findClumps(genome,k,L,t):\n",
    "    clumps = set()\n",
    "\n",
    "    for i in range(len(genome) - L +1):\n",
    "        window = genome[i: i+L]\n",
    "\n",
    "        kmers = {}\n",
    "\n",
    "        for j in range(len(window)-k+1):\n",
    "            kmer = window[j:j+k]\n",
    "            if kmer not in kmers:\n",
    "                kmers[kmer] = 0\n",
    "            kmers[kmer] += 1\n",
    "\n",
    "        for kmer, count in kmers.items():\n",
    "            if count >= t:\n",
    "                clumps.add(kmer)\n",
    "\n",
    "    return list(clumps) \n",
    "\n",
    "genome = \"CGGACTCGACAGATGTGAAGAAATGTGAAGACTGAGTGAAGAGAAGAGGAAACACGACACGACATTGCGACATAATGTACGAATGTAATGTGCCTATGGC\"\n",
    "\n",
    "k = 5\n",
    "L = 75\n",
    "t = 4\n",
    "\n",
    "result = findClumps(genome,k,L,t)\n",
    "print(result)"
   ]
  },
  {
   "cell_type": "markdown",
   "metadata": {},
   "source": [
    "### BA1F : Find a Position in a Genome Minimizing the Skew"
   ]
  },
  {
   "cell_type": "code",
   "execution_count": 31,
   "metadata": {},
   "outputs": [
    {
     "name": "stdout",
     "output_type": "stream",
     "text": [
      "[53, 97]\n"
     ]
    }
   ],
   "source": [
    "def minSkew(genome):\n",
    "    min_skew = float('inf')\n",
    "    min_skew_positions = []\n",
    "\n",
    "    current_skew = 0\n",
    "\n",
    "    for i,nucleotide in enumerate(genome):\n",
    "        if nucleotide == 'G':\n",
    "            current_skew += 1\n",
    "        elif nucleotide == 'C':\n",
    "            current_skew -= 1\n",
    "\n",
    "        if current_skew < min_skew:\n",
    "            min_skew = current_skew\n",
    "            min_skew_positions = [i+1]\n",
    "        elif current_skew == min_skew:\n",
    "            min_skew_positions.append(i+1)\n",
    "\n",
    "    return min_skew_positions\n",
    "\n",
    "\n",
    "\n",
    "genome = \"CCTATCGGTGGATTAGCATGTCCCTGTACGTTTCGCCGCGAACTAGTTCACACGGCTTGATGGCAAATGGTTTTTCCGGCGACCGTAATCGTCCACCGAG\"\n",
    "positions = minSkew(genome)\n",
    "print(positions)"
   ]
  },
  {
   "cell_type": "markdown",
   "metadata": {},
   "source": [
    "### BA1G : Compute the Hamming Distance Between Two Strings"
   ]
  },
  {
   "cell_type": "code",
   "execution_count": 33,
   "metadata": {},
   "outputs": [
    {
     "name": "stdout",
     "output_type": "stream",
     "text": [
      "3\n"
     ]
    }
   ],
   "source": [
    "def hammingDistance(genome1,genome2):\n",
    "    count = 0\n",
    "\n",
    "    for i, (nucleotide1, nucleotide2) in enumerate(zip(genome1,genome2)):\n",
    "        if nucleotide1 != nucleotide2:\n",
    "            count += 1\n",
    "\n",
    "    \n",
    "    return count\n",
    "\n",
    "genome1 = \"GGGCCGTTGGT\"\n",
    "genome2 = \"GGACCGTTGAC\"\n",
    "\n",
    "result = hammingDistance(genome1,genome2)\n",
    "print(result)"
   ]
  },
  {
   "cell_type": "markdown",
   "metadata": {},
   "source": [
    "### BA1H : Find All Approximate Occurrences of a Pattern in a String"
   ]
  },
  {
   "cell_type": "code",
   "execution_count": 35,
   "metadata": {},
   "outputs": [
    {
     "name": "stdout",
     "output_type": "stream",
     "text": [
      "[6, 7, 26, 27, 78]\n"
     ]
    }
   ],
   "source": [
    "def calculateHammingDistance(genome,pattern):\n",
    "    count = 0\n",
    "    for i in range(len(genome)):\n",
    "        if(genome[i]!=pattern[i]):\n",
    "            count += 1\n",
    "    return count\n",
    "\n",
    "def findAllPositions(genome,pattern,d):\n",
    "    result = []\n",
    "    patternLen = len(pattern)\n",
    "    genomeLen = len(genome)\n",
    "\n",
    "    for i in range(genomeLen - patternLen + 1):\n",
    "        subgenome = genome[i:i+patternLen]\n",
    "        hammingDistance = calculateHammingDistance(subgenome,pattern)\n",
    "        if hammingDistance <= d :\n",
    "            result.append(i)\n",
    "    \n",
    "    return result\n",
    "\n",
    "pattern = \"ATTCTGGA\"\n",
    "genome = \"CGCCCGAATCCAGAACGCATTCCCATATTTCGGGACCACTGGCCTCCACGGTACGGACGTCAATCAAATGCCTAGCGGCTTGTGGTTTCTCCTACGCTCC\"\n",
    "d = 3\n",
    "\n",
    "result = findAllPositions(genome,pattern,d)\n",
    "print(result)"
   ]
  },
  {
   "cell_type": "markdown",
   "metadata": {},
   "source": [
    "### BA1I : Find the Most Frequent Words with Mismatches in a String"
   ]
  },
  {
   "cell_type": "code",
   "execution_count": 36,
   "metadata": {},
   "outputs": [
    {
     "name": "stdout",
     "output_type": "stream",
     "text": [
      "['ATGT', 'GATG', 'ATGC']\n"
     ]
    }
   ],
   "source": [
    "def calculateHammingDistance(genome1,genome2):\n",
    "    count = 0\n",
    "    for i in range(len(genome1)):\n",
    "        if genome1[i] != genome2[i]:\n",
    "            count += 1\n",
    "    \n",
    "    return count\n",
    "\n",
    "def mostFrequentWords(genome,k,d):\n",
    "    max_count = 0\n",
    "    result = []\n",
    "\n",
    "    for i in range(len(genome) - k +1):\n",
    "        pattern = genome[i:i+k]\n",
    "\n",
    "        # serach pattern again in the total sentence\n",
    "        count = 0\n",
    "        for j in range(len(genome) -k + 1):\n",
    "            hammingDistance = calculateHammingDistance(pattern,genome[j:j+k])\n",
    "            if(hammingDistance <= d):\n",
    "                count += 1\n",
    "        if count > max_count:\n",
    "            max_count = count\n",
    "            result = [pattern]\n",
    "        elif count == max_count:\n",
    "            result.append(pattern)\n",
    "    return result\n",
    "\n",
    "\n",
    "genome = \"ACGTTGCATGTCGCATGATGCATGAGAGCT\"\n",
    "k = 4\n",
    "d = 1\n",
    "\n",
    "result = mostFrequentWords(genome,k,d)\n",
    "print(result)"
   ]
  },
  {
   "cell_type": "markdown",
   "metadata": {},
   "source": [
    "### BA1J : Find Frequent Words with Mismatches and Reverse Complements"
   ]
  },
  {
   "cell_type": "code",
   "execution_count": 38,
   "metadata": {},
   "outputs": [
    {
     "name": "stdout",
     "output_type": "stream",
     "text": [
      "['ATGA', 'ATGT', 'GCAT']\n"
     ]
    }
   ],
   "source": [
    "def calculateReverseComplement(pattern):\n",
    "    complement_dict = {'A':'T', 'T':'A', 'G':'C','C':'G'}\n",
    "    complement = \"\"\n",
    "\n",
    "    for base in pattern[::-1]:\n",
    "        complement += complement_dict[base]\n",
    "    return complement\n",
    "\n",
    "def hammingDistance(pattern1, pattern2):\n",
    "    count = 0\n",
    "    for p1,p2 in zip(pattern1,pattern2):\n",
    "        if(p1 != p2):\n",
    "            count += 1\n",
    "    \n",
    "    return count\n",
    "\n",
    "def findAllWords(genome, k, d):\n",
    "    result = []\n",
    "    max_count = 0\n",
    "\n",
    "    for i in range(len(genome) - k + 1):\n",
    "        pattern = genome[i: i+k]\n",
    "        reverse_complement = calculateReverseComplement(pattern)\n",
    "        count = 0\n",
    "        \n",
    "        for j in range(len(genome) - k + 1):\n",
    "            if hammingDistance(pattern, genome[j:j+k]) <=d or hammingDistance(reverse_complement, genome[j:j+k])<=d:\n",
    "                count += 1\n",
    "        if count > max_count :\n",
    "            result = [pattern]\n",
    "            max_count = count\n",
    "        elif count == max_count:\n",
    "            result.append(pattern)\n",
    "    \n",
    "    return result\n",
    "\n",
    "def checkDuplicate(results):\n",
    "    mySet = set()\n",
    "    for result in results:\n",
    "        if result not in mySet and calculateReverseComplement(result) not in mySet:\n",
    "            mySet.add(result)\n",
    "    \n",
    "    return list(mySet)\n",
    "\n",
    "\n",
    "genome = \"ACGTTGCATGTCGCATGATGCATGAGAGCT\"\n",
    "k = 4\n",
    "d = 1\n",
    "\n",
    "result = findAllWords(genome,k,d)\n",
    "\n",
    "finalResult = checkDuplicate(result)\n",
    "\n",
    "print(finalResult)"
   ]
  },
  {
   "cell_type": "markdown",
   "metadata": {},
   "source": [
    "### BA1L : Implement PatternToNumbe"
   ]
  },
  {
   "cell_type": "code",
   "execution_count": 40,
   "metadata": {},
   "outputs": [
    {
     "name": "stdout",
     "output_type": "stream",
     "text": [
      "11\n"
     ]
    }
   ],
   "source": [
    "def patternToNumber(genome):\n",
    "    number = 0\n",
    "    genome_dict = {'A':0,'C':1,'G':2,'T':3}\n",
    "    k = len(genome)\n",
    "\n",
    "    for i, base in enumerate(genome[::-1]):\n",
    "        number += genome_dict[base] * (4**i)\n",
    "    \n",
    "    return number\n",
    "\n",
    "genome = \"AGT\"\n",
    "result = patternToNumber(genome)\n",
    "print(result)"
   ]
  },
  {
   "cell_type": "markdown",
   "metadata": {},
   "source": [
    "### BA1M : Implement Implement NumberToPattern"
   ]
  },
  {
   "cell_type": "code",
   "execution_count": 41,
   "metadata": {},
   "outputs": [
    {
     "name": "stdout",
     "output_type": "stream",
     "text": [
      "AGTC\n"
     ]
    }
   ],
   "source": [
    "def numberToPattern(number,k):\n",
    "    base_dict = {0:'A',1:'C',2:'G',3:'T'}\n",
    "    pattern = \"\"\n",
    "\n",
    "    for i in range(k):\n",
    "        remainder = number % 4\n",
    "        base = base_dict[remainder]\n",
    "        pattern = base + pattern\n",
    "        number //= 4\n",
    "    \n",
    "    return pattern\n",
    "\n",
    "number = 45\n",
    "k = 4\n",
    "\n",
    "result = numberToPattern(number,k)\n",
    "\n",
    "print(result)"
   ]
  }
 ],
 "metadata": {
  "kernelspec": {
   "display_name": "Python 3",
   "language": "python",
   "name": "python3"
  },
  "language_info": {
   "codemirror_mode": {
    "name": "ipython",
    "version": 3
   },
   "file_extension": ".py",
   "mimetype": "text/x-python",
   "name": "python",
   "nbconvert_exporter": "python",
   "pygments_lexer": "ipython3",
   "version": "3.11.5"
  },
  "orig_nbformat": 4
 },
 "nbformat": 4,
 "nbformat_minor": 2
}
