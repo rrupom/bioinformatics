{
 "cells": [
  {
   "cell_type": "markdown",
   "metadata": {},
   "source": [
    "### BA2B : Find a Median String"
   ]
  },
  {
   "cell_type": "code",
   "execution_count": 63,
   "metadata": {},
   "outputs": [
    {
     "name": "stdout",
     "output_type": "stream",
     "text": [
      "ACG\n"
     ]
    }
   ],
   "source": [
    "l = 3\n",
    "dnas = ['AAATTGACGCAT','GACGACCACGTT','CGTCAGCGCCTG',\n",
    "'GCTGAGCACCGG','AGTACGGGACAG']\n",
    "\n",
    "\n",
    "kmers = []\n",
    "\n",
    "def createKmers(kmer):\n",
    "    if len(kmer) == l:\n",
    "        kmers.append(kmer)\n",
    "        return\n",
    "    createKmers(kmer+'A')\n",
    "    createKmers(kmer+'C')\n",
    "    createKmers(kmer+'G')\n",
    "    createKmers(kmer+'T')\n",
    "\n",
    "\n",
    "createKmers(\"\")\n",
    "\n",
    "# print(len(kmers))\n",
    "\n",
    "def hamming(dna,kmer):\n",
    "    total = 0\n",
    "    for i in range(len(dna)):\n",
    "        if dna[i] != kmer[i]:\n",
    "            total += 1\n",
    "    return total\n",
    "\n",
    "def findMedian(kmer):\n",
    "    total = 0\n",
    "\n",
    "    for dna in dnas:\n",
    "        gmax = float(\"inf\")\n",
    "        for i in range(len(dna)-len(kmer)+1):\n",
    "            subdna = dna[i:i+len(kmer)]\n",
    "            distance = hamming(subdna,kmer)\n",
    "            if distance < gmax :\n",
    "                gmax = distance\n",
    "        total += gmax\n",
    "    return total\n",
    "\n",
    "global_max = float(\"inf\")\n",
    "result = \"\"\n",
    "\n",
    "for kmer in kmers:\n",
    "    total = findMedian(kmer)\n",
    "    if total < global_max:\n",
    "        global_max = total\n",
    "        result = kmer\n",
    "\n",
    "print(result)"
   ]
  },
  {
   "cell_type": "markdown",
   "metadata": {},
   "source": [
    "### BA2C : Find a Profile-most Probable k-mer in a String"
   ]
  },
  {
   "cell_type": "code",
   "execution_count": 64,
   "metadata": {},
   "outputs": [
    {
     "data": {
      "text/plain": [
       "<BarContainer object of 46 artists>"
      ]
     },
     "execution_count": 64,
     "metadata": {},
     "output_type": "execute_result"
    },
    {
     "data": {
      "image/png": "[encoded data removed]",
      "text/plain": [
       "<Figure size 640x480 with 1 Axes>"
      ]
     },
     "metadata": {},
     "output_type": "display_data"
    }
   ],
   "source": [
    "dna = \"ACCTGTTTATTGCCTAAGTTCCGAACAAACCCAATATAGCCCGAGGGCCT\"\n",
    "k = 5\n",
    "dic = {\n",
    "    'A': [0.2,0.3,0.3,0.2,0.3],\n",
    "    'C': [0.4,0.3,0.1,0.5,0.1],\n",
    "    'G':[0.3,0.3,0.5,0.2,0.4],\n",
    "    'T': [0.1,0.2,0.1,0.1,0.2]  \n",
    "}\n",
    "\n",
    "pmax = float(\"-inf\")\n",
    "kmer = \"\"\n",
    "gb = {}\n",
    "for i in range(len(dna)-k+1):\n",
    "    subdna = dna[i:i+k]\n",
    "    probability = 1\n",
    "    for j in range(k):\n",
    "        probability *= dic[subdna[j]][j]\n",
    "    if probability > pmax:\n",
    "        kmer = subdna\n",
    "        pmax = probability\n",
    "    gb[subdna] = probability\n",
    "keys = list(gb.keys())\n",
    "values = list(gb.values())\n",
    "\n",
    "import matplotlib.pyplot as plt\n",
    "plt.bar(keys,values)"
   ]
  },
  {
   "cell_type": "markdown",
   "metadata": {},
   "source": [
    "### BA2D : Implement GreedyMotifSearch"
   ]
  },
  {
   "cell_type": "code",
   "execution_count": 70,
   "metadata": {},
   "outputs": [
    {
     "name": "stdout",
     "output_type": "stream",
     "text": [
      "['CAG', 'CAG', 'CAA', 'CAA', 'CAA']\n"
     ]
    }
   ],
   "source": [
    "k = 3\n",
    "t = 5\n",
    "dnas = [\n",
    "    \"GGCGTTCAGGCA\",\n",
    "    \"AAGAATCAGTCA\",\n",
    "    \"CAAGGAGTTCGC\",\n",
    "    \"CACGTCAATCAC\",\n",
    "    \"CAATAATATTCG\"\n",
    "]\n",
    "\n",
    "\n",
    "def buildProfile(motifs,k):\n",
    "    profile = [[0]*k for _ in range(4)]\n",
    "    dic = {'A':0,'C':1,'G':2,'T':3}\n",
    "    for motif in motifs:\n",
    "        for i in range(k):\n",
    "            profile[dic[motif[i]]][i] += 1\n",
    "\n",
    "    total = len(motifs)\n",
    "\n",
    "    for i in range(4):\n",
    "        for j in range(k):\n",
    "            profile[i][j] = profile[i][j]/total\n",
    "    return profile\n",
    "\n",
    "def bestKmer(dna,profile,k):\n",
    "    global_max = float(\"-inf\")\n",
    "    dic = {'A':0,'C':1,'G':2,'T':3}\n",
    "    kmer = \"\"\n",
    "    for i in range(len(dna)-k+1):\n",
    "        subdna = dna[i:i+k]\n",
    "        prob = 1\n",
    "        for j in range(k):\n",
    "            prob *= profile[dic[subdna[j]]][j]\n",
    "        if prob > global_max:\n",
    "            global_max = prob\n",
    "            kmer = subdna\n",
    "    return kmer\n",
    "\n",
    "def score(motifs,k):\n",
    "    total = 0\n",
    "    for i in range(k):\n",
    "        dic = {'A':0,'C':0,'G':0,'T':0}\n",
    "        for motif in motifs:\n",
    "            dic[motif[i]] += 1\n",
    "        max_val = max(dic.values())\n",
    "        total += (len(motifs) - max_val)\n",
    "    return total\n",
    "\n",
    "def greedy(dnas,k,t):\n",
    "    bests = []\n",
    "    for dna in dnas:\n",
    "        bests.append(dna[0:k])\n",
    "    for i in range(len(dnas[0])-k+1):\n",
    "        motif1 = dnas[0][i:i+k]\n",
    "        motifs = []\n",
    "        motifs.append(motif1)\n",
    "        for j in range(1,t):\n",
    "            profile = buildProfile(motifs,k)\n",
    "            best_kmer = bestKmer(dnas[j],profile,k)\n",
    "            motifs.append(best_kmer)\n",
    "        if score(motifs,k) < score(bests,k):\n",
    "            bests = motifs\n",
    "    return bests\n",
    "\n",
    "best = greedy(dnas,k,t)\n",
    "print(best)"
   ]
  },
  {
   "cell_type": "markdown",
   "metadata": {},
   "source": [
    "### BA2E : Implement GreedyMotifSearch with Pseudocounts"
   ]
  },
  {
   "cell_type": "code",
   "execution_count": 71,
   "metadata": {},
   "outputs": [
    {
     "name": "stdout",
     "output_type": "stream",
     "text": [
      "['TTC', 'ATC', 'TTC', 'ATC', 'TTC']\n"
     ]
    }
   ],
   "source": [
    "k = 3\n",
    "t = 5\n",
    "dnas = [\n",
    "    \"GGCGTTCAGGCA\",\n",
    "    \"AAGAATCAGTCA\",\n",
    "    \"CAAGGAGTTCGC\",\n",
    "    \"CACGTCAATCAC\",\n",
    "    \"CAATAATATTCG\"\n",
    "]\n",
    "\n",
    "def buildProfile(motifs,k):\n",
    "    profile = [[0]*k for _ in range(4)]\n",
    "    pseudo = [[1]*k for _ in range(4)]\n",
    "    dic = {'A':0,'C':1,'G':2,'T':3}\n",
    "    for motif in motifs:\n",
    "        for i in range(k):\n",
    "            pseudo[dic[motif[i]]][i] += 1\n",
    "\n",
    "    total = len(motifs)\n",
    "\n",
    "    for i in range(4):\n",
    "        for j in range(k):\n",
    "            profile[i][j] = pseudo[i][j]/(total+4)\n",
    "\n",
    "    return profile\n",
    "\n",
    "def bestKmer(dna,profile,k):\n",
    "    global_max = float(\"-inf\")\n",
    "    dic = {'A':0,'C':1,'G':2,'T':3}\n",
    "    kmer = \"\"\n",
    "    for i in range(len(dna)-k+1):\n",
    "        subdna = dna[i:i+k]\n",
    "        prob = 1\n",
    "        for j in range(k):\n",
    "            prob *= profile[dic[subdna[j]]][j]\n",
    "        if prob > global_max:\n",
    "            global_max = prob\n",
    "            kmer = subdna\n",
    "\n",
    "    return kmer\n",
    "\n",
    "def score(motifs,k):\n",
    "    total = 0\n",
    "    for i in range(k):\n",
    "        dic = {'A':0,'C':0,'G':0,'T':0}\n",
    "        for motif in motifs:\n",
    "            dic[motif[i]] += 1\n",
    "        max_val = max(dic.values())\n",
    "        total += (len(motifs) - max_val)\n",
    "\n",
    "    return total\n",
    "\n",
    "def greedy(dnas,k,t):\n",
    "    bests = []\n",
    "    for dna in dnas:\n",
    "        bests.append(dna[0:k])\n",
    "    for i in range(len(dnas[0])-k+1):\n",
    "        motif1 = dnas[0][i:i+k]\n",
    "        motifs = []\n",
    "        motifs.append(motif1)\n",
    "        for j in range(1,t):\n",
    "            profile = buildProfile(motifs,k)\n",
    "            best_kmer = bestKmer(dnas[j],profile,k)\n",
    "            motifs.append(best_kmer)\n",
    "        if score(motifs,k) < score(bests,k):\n",
    "            bests = motifs\n",
    "    return bests\n",
    "\n",
    "best = greedy(dnas,k,t)\n",
    "print(best)"
   ]
  },
  {
   "cell_type": "markdown",
   "metadata": {},
   "source": [
    "### BA2F : Implement RandomizedMotifSearch"
   ]
  },
  {
   "cell_type": "code",
   "execution_count": 14,
   "metadata": {},
   "outputs": [
    {
     "name": "stdout",
     "output_type": "stream",
     "text": [
      "['TCTCGGGG', 'CCAAGGTG', 'TACAGGCG', 'TTCAGGTG', 'TCCACGTG']\n"
     ]
    }
   ],
   "source": [
    "import random\n",
    "\n",
    "k = 8\n",
    "t = 5\n",
    "dnas = [\n",
    "    \"CGCCCCTCTCGGGGGTGTTCAGTAAACGGCCA\",\n",
    "    \"GGGCGAGGTATGTGTAAGTGCCAAGGTGCCAG\",\n",
    "    \"TAGTACCGAGACCGAAAGAAGTATACAGGCGT\",\n",
    "    \"TAGATCAAGTTTCAGGTGCACGTCGGTGAACC\",\n",
    "    \"AATCCACCAGCTCCACGTGCAATGTTGGCCTA\"\n",
    "]\n",
    "\n",
    "def genRandom(dnas,k):\n",
    "    motifs = []\n",
    "    for dna in dnas:\n",
    "        i = random.randint(0, len(dna)-k)\n",
    "        motifs.append(dna[i:i+k])\n",
    "    return motifs\n",
    "\n",
    "def buildProfile(motifs,k):\n",
    "    dic = {'A':0,'C':1,'G':2,'T':3}\n",
    "    profile = [[0]*k for _ in range(4)]\n",
    "    pseudo = [[1]*k for _ in range(4)]\n",
    "\n",
    "    for motif in motifs:\n",
    "        for i in range(k):\n",
    "            pseudo[dic[motif[i]]][i] += 1\n",
    "\n",
    "    for i in range(4):\n",
    "        for j in range(k):\n",
    "            profile[i][j] = pseudo[i][j]/(len(motifs)+4)\n",
    "\n",
    "    return profile\n",
    "\n",
    "def probableKmers(dnas,profile,k):\n",
    "    motifs = []\n",
    "    dic = {'A':0,'C':1,'G':2,'T':3}\n",
    "\n",
    "    for dna in dnas:\n",
    "        gmax = float(\"-inf\")\n",
    "        kmer = \"\"\n",
    "        for i in range(len(dna)-k+1):\n",
    "            subdna = dna[i:i+k]\n",
    "            prob = 1\n",
    "            for j in range(k):\n",
    "                prob *= profile[dic[subdna[j]]][j]\n",
    "            if prob > gmax:\n",
    "                gmax = prob\n",
    "                kmer = subdna\n",
    "        motifs.append(kmer)\n",
    "\n",
    "    return motifs\n",
    "\n",
    "def score(motifs,k):\n",
    "    total = 0\n",
    "    l = len(motifs)\n",
    "\n",
    "    for i in range(k):\n",
    "        dic = {'A':0,'C':0,'G':0,'T':0}\n",
    "        for motif in motifs:\n",
    "            dic[motif[i]] += 1\n",
    "        max_val = max(dic.values())\n",
    "        total += (l-max_val)\n",
    "        \n",
    "    return total\n",
    "\n",
    "def motifSearch(dnas,k):\n",
    "    bests = randoms = genRandom(dnas,k)\n",
    "    while True:\n",
    "        profile = buildProfile(randoms,k)\n",
    "        randoms = probableKmers(dnas,profile,k)\n",
    "        if score(randoms,k) < score(bests,k):\n",
    "            bests = randoms\n",
    "        else:\n",
    "            return bests\n",
    "\n",
    "def randomSearch(dnas,k,iter):\n",
    "    bests = motifSearch(dnas,k)\n",
    "    \n",
    "    for _ in range(iter-1):\n",
    "        another = motifSearch(dnas,k)\n",
    "        if score(another,k) < score(bests,k):\n",
    "            bests = another\n",
    "    return bests  \n",
    "\n",
    "bests = randomSearch(dnas,k,1000)\n",
    "print(bests)"
   ]
  },
  {
   "cell_type": "markdown",
   "metadata": {},
   "source": [
    "### BA3H : Implement DistanceBetweenPatternAndStrings"
   ]
  },
  {
   "cell_type": "code",
   "execution_count": 18,
   "metadata": {},
   "outputs": [
    {
     "name": "stdout",
     "output_type": "stream",
     "text": [
      "5\n"
     ]
    }
   ],
   "source": [
    "pattern = \"AAA\"\n",
    "texts = ['TTACCTTAAC','GATATCTGTC','ACGGCGTTCG','CCCTAAAGAG','CGTCAGAGGT']\n",
    "\n",
    "def findDistance(pattern,texts):\n",
    "    total = 0\n",
    "    k = len(pattern)\n",
    "    for text in texts:\n",
    "        gmin = float(\"inf\")\n",
    "        for i in range(len(text)-k+1):\n",
    "            sub = text[i:i+k]\n",
    "            d = hamming(sub,pattern)\n",
    "            if d < gmin:\n",
    "                gmin = d\n",
    "        total += gmin\n",
    "    return total\n",
    "\n",
    "\n",
    "distance = findDistance(pattern,texts)\n",
    "print(distance)"
   ]
  },
  {
   "cell_type": "markdown",
   "metadata": {},
   "source": [
    "### BA3D : Construct the De Bruijn Graph of a String"
   ]
  },
  {
   "cell_type": "code",
   "execution_count": 68,
   "metadata": {},
   "outputs": [
    {
     "name": "stdout",
     "output_type": "stream",
     "text": [
      "AAG -> AGA\n",
      "AGA -> GAT\n",
      "ATT -> TTC\n",
      "CTA -> TAC\n",
      "CTC -> TCT\n",
      "GAT -> ATT\n",
      "TCT -> CTC,CTA\n",
      "TTC -> TCT\n"
     ]
    }
   ],
   "source": [
    "k = 4\n",
    "string = \"AAGATTCTCTAC\"\n",
    "\n",
    "def debrujin(string,k):\n",
    "    dic = {}\n",
    "\n",
    "    for i in range(len(string)-k+1):\n",
    "        substring = string[i:i+k]\n",
    "        prefix = substring[:-1]\n",
    "        suffix = substring[1:]\n",
    "\n",
    "        if prefix not in dic:\n",
    "            dic[prefix] = []\n",
    "        dic[prefix].append(suffix)\n",
    "\n",
    "    return dic\n",
    "\n",
    "result = debrujin(string,k)\n",
    "result = sorted(result.items(), key=lambda c: c[0])\n",
    "result = {key:value for key,value in result}\n",
    "\n",
    "for key, value in result.items():\n",
    "    print(key,'->',','.join(value))"
   ]
  },
  {
   "cell_type": "markdown",
   "metadata": {},
   "source": [
    "### BA3E : Construct the De Bruijn Graph of a Collection of k-mers"
   ]
  },
  {
   "cell_type": "code",
   "execution_count": 69,
   "metadata": {},
   "outputs": [
    {
     "name": "stdout",
     "output_type": "stream",
     "text": [
      "GAG -> AGG\n",
      "CAG -> AGG,AGG\n",
      "GGG -> GGG,GGA\n",
      "AGG -> GGG\n",
      "GGA -> GAG\n"
     ]
    }
   ],
   "source": [
    "kmers = [\n",
    "    \"GAGG\",\n",
    "    \"CAGG\",\n",
    "    \"GGGG\",\n",
    "    \"GGGA\",\n",
    "    \"CAGG\",\n",
    "    \"AGGG\",\n",
    "    \"GGAG\"\n",
    "]\n",
    "\n",
    "def debrujin(kmers):\n",
    "    dic = {}\n",
    "    for kmer in kmers:\n",
    "        prefix = kmer[:-1]\n",
    "        suffix = kmer[1:]\n",
    "        \n",
    "        if prefix not in dic:\n",
    "            dic[prefix] = []\n",
    "        dic[prefix].append(suffix)\n",
    "    return dic\n",
    "\n",
    "result = debrujin(kmers)\n",
    "for key,value in result.items():\n",
    "    print(key,\"->\",\",\".join(value))"
   ]
  },
  {
   "cell_type": "markdown",
   "metadata": {},
   "source": [
    "### BA3F : Find an Eulerian Cycle in a Graph "
   ]
  },
  {
   "cell_type": "code",
   "execution_count": 27,
   "metadata": {},
   "outputs": [
    {
     "name": "stdout",
     "output_type": "stream",
     "text": [
      "Euler cycle exists\n"
     ]
    }
   ],
   "source": [
    "graph = {\n",
    "    0: [3],\n",
    "    1: [0],\n",
    "    2: [1,6],\n",
    "    3: [2],\n",
    "    4: [2],\n",
    "    5: [4],\n",
    "    6: [5,8],\n",
    "    7: [9],\n",
    "    8: [7],\n",
    "    9: [6]\n",
    "}\n",
    "\n",
    "def eulerCycle(graph):\n",
    "    indegrees = {}\n",
    "    outdegrees = {}\n",
    "    \n",
    "    for node,key in graph.items():\n",
    "        outdegrees[node] = outdegrees.get(node,0) + len(key)\n",
    "        for neighbor in key:\n",
    "            indegrees[neighbor] = indegrees.get(neighbor,0) + 1\n",
    "            \n",
    "    for node in graph.keys():\n",
    "        if outdegrees[node] != indegrees[node]:\n",
    "            return \"No euler cycle\"\n",
    "        \n",
    "    return \"Euler cycle exists\"\n",
    "\n",
    "result = eulerCycle(graph)\n",
    "print(result)"
   ]
  },
  {
   "cell_type": "markdown",
   "metadata": {},
   "source": [
    "### BA3G : Find an Eulerian Path in a Graph"
   ]
  },
  {
   "cell_type": "code",
   "execution_count": 31,
   "metadata": {},
   "outputs": [
    {
     "name": "stdout",
     "output_type": "stream",
     "text": [
      "6->7->8->9->6->3->0->2->1->3->4\n"
     ]
    }
   ],
   "source": [
    "def euler_start(graph):\n",
    "    indegs = {}\n",
    "    outdegs = {}\n",
    "\n",
    "    for node, keys in graph.items():\n",
    "        outdegs[node] = outdegs.get(node,0) + len(keys)\n",
    "        for n in keys:\n",
    "            indegs[n] = indegs.get(n,0) + 1\n",
    "    start = None\n",
    "    end = None\n",
    "\n",
    "    for node,val in outdegs.items():\n",
    "        if node not in indegs or indegs[node] < val:\n",
    "            start = node\n",
    "            break\n",
    "\n",
    "    for node,val in indegs.items():\n",
    "        if node not in outdegs or outdegs[node]<val:\n",
    "            end = node\n",
    "            break\n",
    "        \n",
    "    return start\n",
    "\n",
    "graph = {\n",
    "    0: [2],\n",
    "    1: [3],\n",
    "    2: [1],\n",
    "    3: [0, 4],\n",
    "    6: [3, 7],\n",
    "    7: [8],\n",
    "    8: [9],\n",
    "    9: [6]\n",
    "}\n",
    "\n",
    "def dfs(graph,start,s):\n",
    "    if start in graph:\n",
    "        neighbors = list(graph[start])\n",
    "        for neighbor in neighbors:\n",
    "            if neighbor in graph[start]:\n",
    "                graph[start].remove(neighbor)\n",
    "                s = dfs(graph,neighbor,s)\n",
    "    s += str(start)\n",
    "    return s\n",
    "                \n",
    "\n",
    "start = euler_start(graph)\n",
    "result = dfs(graph,start,\"\")\n",
    "result = result[::-1]\n",
    "ans = result[0]\n",
    "for i in result[1:]:\n",
    "    ans+='->'+i\n",
    "print(ans)"
   ]
  },
  {
   "cell_type": "markdown",
   "metadata": {},
   "source": [
    "### BA4B : Find Substrings of a Genome Encoding a Given Amino Acid String"
   ]
  },
  {
   "cell_type": "code",
   "execution_count": 72,
   "metadata": {},
   "outputs": [
    {
     "name": "stdout",
     "output_type": "stream",
     "text": [
      "ATGGCC\n",
      "GGCCAT\n",
      "ATGGCC\n"
     ]
    }
   ],
   "source": [
    "from Bio.Seq import Seq\n",
    "dna = \"ATGGCCATGGCCCCCAGAACTGAGATCAATAGTACCCGTATTAACGGGTGA\"\n",
    "text = \"MA\" \n",
    "\n",
    "k = len(text)*3\n",
    "\n",
    "for i in range(len(dna)-k+1):\n",
    "    subdna = dna[i:i+k]\n",
    "    if Seq(subdna).translate() == text or Seq(subdna).reverse_complement().translate() == text:\n",
    "        print(subdna)"
   ]
  },
  {
   "cell_type": "code",
   "execution_count": 73,
   "metadata": {},
   "outputs": [
    {
     "data": {
      "text/plain": [
       "<BarContainer object of 14 artists>"
      ]
     },
     "execution_count": 73,
     "metadata": {},
     "output_type": "execute_result"
    },
    {
     "data": {
      "image/png": "[encoded data removed]",
      "text/plain": [
       "<Figure size 640x480 with 1 Axes>"
      ]
     },
     "metadata": {},
     "output_type": "display_data"
    }
   ],
   "source": [
    "from Bio.Seq import Seq\n",
    "import matplotlib.pyplot as plt\n",
    "\n",
    "peptide = \"NQEL\"\n",
    "\n",
    "mass_table =  {\n",
    "    '': 0,\n",
    "    'G': 57,\n",
    "    'A': 71,\n",
    "    'S': 87,\n",
    "    'P': 97,\n",
    "    'V': 99,\n",
    "    'T': 101,\n",
    "    'C': 103,\n",
    "    'I': 113,\n",
    "    'L': 113,\n",
    "    'N': 114,\n",
    "    'D': 115,\n",
    "    'K': 128,\n",
    "    'Q': 128,\n",
    "    'E': 129,\n",
    "    'M': 131,\n",
    "    'H': 137,\n",
    "    'F': 147,\n",
    "    'R': 156,\n",
    "    'Y': 163,\n",
    "    'W': 186\n",
    "}\n",
    "seqs = [\"\"] # empty is also valid\n",
    "\n",
    "def generateAll(peptide2):\n",
    "    for ln in range(1,len(peptide)):\n",
    "        for index in range(len(peptide)):\n",
    "            seqs.append(peptide2[index:index+ln])\n",
    "\n",
    "\n",
    "\n",
    "generateAll(peptide+peptide)\n",
    "\n",
    "seqs.append(peptide) # peptide is also valid. Remember it\n",
    "\n",
    "def calculateMass(seq):\n",
    "    total = 0\n",
    "    for s in seq:\n",
    "        total += mass_table[s]\n",
    "    return total\n",
    "\n",
    "seq_and_mass = {}\n",
    "for seq in seqs:\n",
    "    mass = calculateMass(seq)\n",
    "    seq_and_mass[seq] = mass\n",
    "\n",
    "seq_and_mass = sorted(seq_and_mass.items(), key=lambda c: c[1])\n",
    "seq_and_mass = {key: val for key,val in seq_and_mass}\n",
    "keys = list(seq_and_mass.keys())\n",
    "values = list(seq_and_mass.values())\n",
    "plt.bar(keys,values)"
   ]
  },
  {
   "cell_type": "markdown",
   "metadata": {},
   "source": [
    "### BA4D : Compute the Number of Peptides of Given Total Mass"
   ]
  },
  {
   "cell_type": "code",
   "execution_count": 74,
   "metadata": {},
   "outputs": [
    {
     "name": "stdout",
     "output_type": "stream",
     "text": [
      "14712706211\n"
     ]
    }
   ],
   "source": [
    "def total_ways(mass, mass_table):\n",
    "    dp = [0]*(mass+1)\n",
    "    dp[0] = 1\n",
    "    m = len(mass_table)\n",
    "\n",
    "    for i in range(mass+1):\n",
    "        cursum = 0\n",
    "        for j in range(m):\n",
    "            if i - mass_table[j] >= 0:\n",
    "                cursum += dp[i-mass_table[j]]\n",
    "        dp[i] += cursum\n",
    "    return dp[mass]\n",
    "\n",
    "mass_table =  {\n",
    "    'G': 57,\n",
    "    'A': 71,\n",
    "    'S': 87,\n",
    "    'P': 97,\n",
    "    'V': 99,\n",
    "    'T': 101,\n",
    "    'C': 103,\n",
    "    'I': 113,\n",
    "    'L': 113,\n",
    "    'N': 114,\n",
    "    'D': 115,\n",
    "    'K': 128,\n",
    "    'Q': 128,\n",
    "    'E': 129,\n",
    "    'M': 131,\n",
    "    'H': 137,\n",
    "    'F': 147,\n",
    "    'R': 156,\n",
    "    'Y': 163,\n",
    "    'W': 186\n",
    "}\n",
    "\n",
    "masses = [value for key,value in mass_table.items()]\n",
    "masses = list(set(masses))\n",
    "\n",
    "mass = 1024\n",
    "\n",
    "\n",
    "result = total_ways(mass,masses)\n",
    "print(result)"
   ]
  },
  {
   "cell_type": "markdown",
   "metadata": {},
   "source": [
    "### BA4F : Compute the Score of a Cyclic Peptide Against a Spectrum"
   ]
  },
  {
   "cell_type": "code",
   "execution_count": 62,
   "metadata": {},
   "outputs": [
    {
     "name": "stdout",
     "output_type": "stream",
     "text": [
      "11\n"
     ]
    }
   ],
   "source": [
    "mass_table =  {\n",
    "    '': 0,\n",
    "    'G': 57,\n",
    "    'A': 71,\n",
    "    'S': 87,\n",
    "    'P': 97,\n",
    "    'V': 99,\n",
    "    'T': 101,\n",
    "    'C': 103,\n",
    "    'I': 113,\n",
    "    'L': 113,\n",
    "    'N': 114,\n",
    "    'D': 115,\n",
    "    'K': 128,\n",
    "    'Q': 128,\n",
    "    'E': 129,\n",
    "    'M': 131,\n",
    "    'H': 137,\n",
    "    'F': 147,\n",
    "    'R': 156,\n",
    "    'Y': 163,\n",
    "    'W': 186\n",
    "}\n",
    "peptide = \"NQEL\"\n",
    "massList = [0, 99, 113, 114, 128, 227, 257, 299, 355, 356, 370, 371, 484]\n",
    "\n",
    "seqs = [\"\"]\n",
    "\n",
    "def generateAll(peptide2):\n",
    "    for l in range(1,len(peptide)):\n",
    "        for ind in range(len(peptide)):\n",
    "            seqs.append(peptide2[ind:ind+l])\n",
    "\n",
    "generateAll(peptide+peptide)\n",
    "seqs.append(peptide)\n",
    "masses = []\n",
    "for seq in seqs:\n",
    "    total = 0\n",
    "    for s in seq:\n",
    "        total += mass_table[s]\n",
    "    masses.append(total)\n",
    "\n",
    "count = 0\n",
    "\n",
    "for mass in massList:\n",
    "    if mass in masses:\n",
    "        count += 1\n",
    "print(count)\n"
   ]
  }
 ],
 "metadata": {
  "kernelspec": {
   "display_name": "Python 3",
   "language": "python",
   "name": "python3"
  },
  "language_info": {
   "codemirror_mode": {
    "name": "ipython",
    "version": 3
   },
   "file_extension": ".py",
   "mimetype": "text/x-python",
   "name": "python",
   "nbconvert_exporter": "python",
   "pygments_lexer": "ipython3",
   "version": "3.11.5"
  }
 },
 "nbformat": 4,
 "nbformat_minor": 2
}
