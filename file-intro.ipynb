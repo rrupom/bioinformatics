{
 "cells": [
  {
   "cell_type": "markdown",
   "metadata": {},
   "source": [
    "8 5 <br>\n",
    "CGCCCCTCTCGGGGGTGTTCAGTAAACGGCCA <br>\n",
    "GGGCGAGGTATGTGTAAGTGCCAAGGTGCCAG <br>\n",
    "TAGTACCGAGACCGAAAGAAGTATACAGGCGT <br>\n",
    "TAGATCAAGTTTCAGGTGCACGTCGGTGAACC <br>\n",
    "AATCCACCAGCTCCACGTGCAATGTTGGCCTA <br>\n",
    "\n",
    "\n",
    "preprocessing from this input"
   ]
  },
  {
   "cell_type": "code",
   "execution_count": 6,
   "metadata": {},
   "outputs": [],
   "source": [
    "with open(\"BA2F.txt\",\"r\") as file:\n",
    "    k,t = [int(number) for number in file.readline().strip().split()]\n",
    "    dnas = [text.replace(\"\\n\",\"\") for text in file.readlines()]"
   ]
  },
  {
   "cell_type": "markdown",
   "metadata": {},
   "source": [
    "ACCTGTTTATTGCCTAAGTTCCGAACAAACCCAATATAGCCCGAGGGCCT\n",
    "<br>\n",
    "5\n",
    "<br>\n",
    "0.2 0.2 0.3 0.2 0.3 <br>\n",
    "0.4 0.3 0.1 0.5 0.1 <br>\n",
    "0.3 0.3 0.5 0.2 0.4 <br>\n",
    "0.1 0.2 0.1 0.1 0.2 <br>"
   ]
  },
  {
   "cell_type": "code",
   "execution_count": 10,
   "metadata": {},
   "outputs": [
    {
     "name": "stdout",
     "output_type": "stream",
     "text": [
      "{'A': [0.2, 0.2, 0.3, 0.2, 0.3], 'C': [0.4, 0.3, 0.1, 0.5, 0.1], 'G': [0.3, 0.3, 0.5, 0.2, 0.4], 'T': [0.1, 0.2, 0.1, 0.1, 0.2]}\n"
     ]
    }
   ],
   "source": [
    "with open(\"BA2C.txt\",\"r\") as file:\n",
    "    string = file.readline().strip()\n",
    "    k = int(file.readline())\n",
    "    matrix = [[float(number) for number in line.split(\" \")] for line in file.readlines()]\n",
    "    dic = {\n",
    "        'A': matrix[0],\n",
    "        'C': matrix[1],\n",
    "        'G': matrix[2],\n",
    "        'T': matrix[3]\n",
    "    }"
   ]
  }
 ],
 "metadata": {
  "kernelspec": {
   "display_name": "Python 3",
   "language": "python",
   "name": "python3"
  },
  "language_info": {
   "codemirror_mode": {
    "name": "ipython",
    "version": 3
   },
   "file_extension": ".py",
   "mimetype": "text/x-python",
   "name": "python",
   "nbconvert_exporter": "python",
   "pygments_lexer": "ipython3",
   "version": "3.11.5"
  }
 },
 "nbformat": 4,
 "nbformat_minor": 2
}
