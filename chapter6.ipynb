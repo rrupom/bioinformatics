{
 "cells": [
  {
   "cell_type": "code",
   "execution_count": 3,
   "metadata": {},
   "outputs": [
    {
     "name": "stdout",
     "output_type": "stream",
     "text": [
      "(-1 -4 +3 +5 -2)\n",
      "(+1 -4 +3 +5 -2)\n",
      "(+1 +2 -5 -3 +4)\n",
      "(+1 +2 +3 +5 +4)\n",
      "(+1 +2 +3 -4 -5)\n",
      "(+1 +2 +3 +4 -5)\n",
      "(+1 +2 +3 +4 -5)\n",
      "(+1 +2 +3 +4 +5)\n"
     ]
    }
   ],
   "source": [
    "def rev_neg(per,i,j):\n",
    "    return per[:i]+list(-x for x in reversed(per[i:j+1]))+per[j+1:]\n",
    "\n",
    "def permut(input):\n",
    "    output = []\n",
    "    list_permut = [int(x) for x in input.replace(\"(\",\"\").replace(\")\",\"\").split()]\n",
    "    \n",
    "    for i in range(len(list_permut)):\n",
    "        if abs(list_permut[i]) != i+1:\n",
    "            index = list_permut.index(i+1 if i+1 in list_permut else -(i+1))\n",
    "            list_permut = rev_neg(list_permut,i,index)\n",
    "        output.append(list_permut.copy())\n",
    "        if(list_permut[i] < 0):\n",
    "            list_permut[i] = -list_permut[i]\n",
    "            output.append(list_permut.copy())\n",
    "    \n",
    "    return output\n",
    "            \n",
    "\n",
    "ans = ans=permut(\"(-3 +4 +1 +5 -2)\")\n",
    "for a in ans:\n",
    "    print(\"(\" + \" \".join(map(lambda x: f\"+{abs(x)}\" if x>0 else f\"{x}\",a)) + \")\")"
   ]
  },
  {
   "cell_type": "code",
   "execution_count": 6,
   "metadata": {},
   "outputs": [
    {
     "name": "stdout",
     "output_type": "stream",
     "text": [
      "(0, 0)\n",
      "(4, 2)\n",
      "(0, 4)\n",
      "(6, 6)\n"
     ]
    }
   ],
   "source": [
    "from Bio.Seq import Seq\n",
    "\n",
    "k = 3\n",
    "s = \"AAACTCATC\"\n",
    "t = \"TTTCAAATC\"\n",
    "\n",
    "def shared_kmer(s,t,k):\n",
    "    m = len(s)\n",
    "    n = len(t)\n",
    "    dic = {}\n",
    "    ans = []\n",
    "\n",
    "    for i in range(m-k+1):\n",
    "        kmer = s[i:i+k]\n",
    "        dic[kmer] = i\n",
    "    for j in range(n-k+1):\n",
    "        kmer = t[j:j+k]\n",
    "        rkmer = Seq(kmer).reverse_complement()\n",
    "        if kmer in dic.keys():\n",
    "            ans.append([dic[kmer],j])\n",
    "        if rkmer in dic.keys():\n",
    "            ans.append([dic[rkmer],j])\n",
    "    return ans\n",
    "\n",
    "ans = shared_kmer(s,t,k)\n",
    "for a in ans:\n",
    "    # print(\"(\" + \" \".join(map(str,a)) + \")\")\n",
    "    print(tuple(a))"
   ]
  },
  {
   "cell_type": "code",
   "execution_count": 5,
   "metadata": {},
   "outputs": [
    {
     "name": "stdout",
     "output_type": "stream",
     "text": [
      "(1 2 4 3 6 5 7 8)\n"
     ]
    }
   ],
   "source": [
    "def cromosome(input):\n",
    "    l = [int(x) for x in input.replace(\"(\",\"\").replace(\")\",\"\").split()]\n",
    "    ans = []\n",
    "    for li in l:\n",
    "        if li > 0:\n",
    "            ans.append(2*li-1)\n",
    "            ans.append(2*li)\n",
    "        else:\n",
    "            ans.append(-2*li)\n",
    "            ans.append(-2*li-1)\n",
    "    return ans\n",
    "input = \"(+1 -2 -3 +4)\"\n",
    "ans = cromosome(input)\n",
    "print(\"(\" + \" \".join(map(str,ans)) + \")\")"
   ]
  },
  {
   "cell_type": "code",
   "execution_count": 8,
   "metadata": {},
   "outputs": [
    {
     "name": "stdout",
     "output_type": "stream",
     "text": [
      "(+1 -2 -3 +4)\n"
     ]
    }
   ],
   "source": [
    "def genome(input):\n",
    "    ans = []\n",
    "    cro = [int(x) for x in input.replace(\"(\",\"\").replace(\")\",\"\").split()]\n",
    "    i = 0\n",
    "\n",
    "    while i < len(cro):\n",
    "        a = cro[i]\n",
    "        b = cro[i+1]\n",
    "\n",
    "        if a < b:\n",
    "            ans.append(b//2)\n",
    "        else:\n",
    "            ans.append(-(a//2))\n",
    "        i += 2\n",
    "    return ans\n",
    "\n",
    "input = \"(1 2 4 3 6 5 7 8)\"\n",
    "\n",
    "ans = genome(input)\n",
    "print(\"(\" + \" \".join(map(lambda x: f\"+{x}\" if x > 0 else f\"{x}\",ans)) + \")\")"
   ]
  },
  {
   "cell_type": "code",
   "execution_count": 18,
   "metadata": {},
   "outputs": [
    {
     "name": "stdout",
     "output_type": "stream",
     "text": [
      "(11, 7), (2, 4), (5, 1), (8, 9), (3, 6), (10, 12)\n"
     ]
    }
   ],
   "source": [
    "def cromosome(input):\n",
    "    l = [int(x) for x in input.replace(\"(\",\"\").replace(\")\",\"\").split()]\n",
    "\n",
    "    ans = []\n",
    "    \n",
    "    for li in l:\n",
    "        if li > 0:\n",
    "            ans.append(2*li-1)\n",
    "            ans.append(2*li)\n",
    "        else:\n",
    "            ans.append(-2*li)\n",
    "            ans.append(-2*li-1)\n",
    "    return ans\n",
    "\n",
    "def color(input):\n",
    "    ans = set()\n",
    "    for i in input:\n",
    "        chro = cromosome(i)\n",
    "        ln = len(chro)\n",
    "        for j in range(ln):\n",
    "            ans.add((chro[(2*j+1)%ln], chro[(2*j+2)%ln]))\n",
    "    return ans\n",
    "\n",
    "input=\"(+1 -2 -3)(+4 +5 -6)\"\n",
    "input = input.replace(\")(\",\")*(\")\n",
    "input = input.split(\"*\")\n",
    "colo = color(input)\n",
    "colo = \", \".join(f\"({x}, {y})\" for x,y in colo)\n",
    "print(colo)"
   ]
  },
  {
   "cell_type": "code",
   "execution_count": 31,
   "metadata": {},
   "outputs": [
    {
     "data": {
      "text/plain": [
       "'(2, 4), (3, 1), (6, 8), (7, 5)'"
      ]
     },
     "execution_count": 31,
     "metadata": {},
     "output_type": "execute_result"
    }
   ],
   "source": [
    "import ast\n",
    "\n",
    "def break_genome(input,integer):\n",
    "    r = [(integer[0],integer[1]),(integer[1],integer[0]),(integer[2],integer[3]),(integer[3],integer[2])]\n",
    "\n",
    "    replace = []\n",
    "\n",
    "    for p in r:\n",
    "        if p in input:\n",
    "            replace.append(p)\n",
    "            input.remove(p)\n",
    "    input.append((replace[0][0],replace[1][1]))\n",
    "    input.append((replace[1][0],replace[0][1]))\n",
    "\n",
    "    return input\n",
    "\n",
    "input = \"(2, 4), (3, 8), (7, 5), (6, 1)\"\n",
    "input_list = ast.literal_eval(\"[\" + input + \"]\")\n",
    "integer = \"1, 6, 3, 8\"\n",
    "integer_list = ast.literal_eval(\"[\" + integer + \"]\")\n",
    "\n",
    "ans = break_genome(input_list,integer_list)\n",
    "ans = sorted(ans, key=lambda x: x[0])\n",
    "ans = \", \".join(f\"({x}, {y})\" for x,y in ans)\n",
    "ans"
   ]
  }
 ],
 "metadata": {
  "kernelspec": {
   "display_name": "Python 3",
   "language": "python",
   "name": "python3"
  },
  "language_info": {
   "codemirror_mode": {
    "name": "ipython",
    "version": 3
   },
   "file_extension": ".py",
   "mimetype": "text/x-python",
   "name": "python",
   "nbconvert_exporter": "python",
   "pygments_lexer": "ipython3",
   "version": "3.11.5"
  }
 },
 "nbformat": 4,
 "nbformat_minor": 2
}
